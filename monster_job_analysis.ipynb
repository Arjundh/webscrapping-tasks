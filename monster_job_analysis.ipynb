{
 "cells": [
  {
   "cell_type": "code",
   "execution_count": 39,
   "metadata": {},
   "outputs": [],
   "source": [
    "import pandas as pd\n",
    "#Importing all required libraries\n",
    "import re\n",
    "import numpy as np\n",
    "import pandas as pd\n",
    "import seaborn as sns\n",
    "import matplotlib.pyplot as plt\n",
    "from pprint import pprint\n",
    "\n",
    "# Gensim\n",
    "import gensim\n",
    "import gensim.corpora as corpora\n",
    "from gensim.utils import simple_preprocess\n",
    "from gensim.models import CoherenceModel\n",
    "\n",
    "# spacy for lemmatization\n",
    "import spacy\n",
    "\n",
    "#Plotting Plots\n",
    "import pyLDAvis\n",
    "import pyLDAvis.gensim  # don't skip this\n",
    "import matplotlib.pyplot as plt\n",
    "%matplotlib inline\n",
    "\n",
    "# Enable logging for gensim - optional\n",
    "import logging\n",
    "logging.basicConfig(format='%(asctime)s : %(levelname)s : %(message)s', level=logging.ERROR)\n",
    "\n",
    "import warnings\n",
    "warnings.filterwarnings(\"ignore\",category=DeprecationWarning)\n"
   ]
  },
  {
   "cell_type": "code",
   "execution_count": 2,
   "metadata": {},
   "outputs": [],
   "source": [
    "import pandas as pd\n",
    "df = pd.read_csv(\"/Users/Arjun D H/Documents/Monster_job.csv\",engine='python',encoding='utf-8')"
   ]
  },
  {
   "cell_type": "code",
   "execution_count": 41,
   "metadata": {},
   "outputs": [
    {
     "data": {
      "text/html": [
       "<div>\n",
       "<style scoped>\n",
       "    .dataframe tbody tr th:only-of-type {\n",
       "        vertical-align: middle;\n",
       "    }\n",
       "\n",
       "    .dataframe tbody tr th {\n",
       "        vertical-align: top;\n",
       "    }\n",
       "\n",
       "    .dataframe thead th {\n",
       "        text-align: right;\n",
       "    }\n",
       "</style>\n",
       "<table border=\"1\" class=\"dataframe\">\n",
       "  <thead>\n",
       "    <tr style=\"text-align: right;\">\n",
       "      <th></th>\n",
       "      <th>Unnamed: 0</th>\n",
       "      <th>job_Role</th>\n",
       "      <th>company</th>\n",
       "      <th>location</th>\n",
       "      <th>experience</th>\n",
       "      <th>description</th>\n",
       "    </tr>\n",
       "  </thead>\n",
       "  <tbody>\n",
       "    <tr>\n",
       "      <th>0</th>\n",
       "      <td>0</td>\n",
       "      <td>Business Associate</td>\n",
       "      <td>Etiqu</td>\n",
       "      <td>Madurai</td>\n",
       "      <td>0-1 Years</td>\n",
       "      <td>Not Specified</td>\n",
       "    </tr>\n",
       "    <tr>\n",
       "      <th>1</th>\n",
       "      <td>1</td>\n",
       "      <td>Immediate Opening for Hardware and Networking ...</td>\n",
       "      <td>Sysco Infotech</td>\n",
       "      <td>Chennai</td>\n",
       "      <td>0-2 Years</td>\n",
       "      <td>Not Specified</td>\n",
       "    </tr>\n",
       "    <tr>\n",
       "      <th>2</th>\n",
       "      <td>2</td>\n",
       "      <td>Walk In for HDFC Life/ Banca Vertical/ Malegao...</td>\n",
       "      <td>Hr Remedy India</td>\n",
       "      <td>Mumbai</td>\n",
       "      <td>1-10 Years</td>\n",
       "      <td>Not Specified</td>\n",
       "    </tr>\n",
       "    <tr>\n",
       "      <th>3</th>\n",
       "      <td>3</td>\n",
       "      <td>freshers Telesales Executive Telecaller Intern...</td>\n",
       "      <td>Tremplin Solutions Private Limited</td>\n",
       "      <td>Bengaluru / Bangalore</td>\n",
       "      <td>0-5 Years</td>\n",
       "      <td>Not Specified</td>\n",
       "    </tr>\n",
       "    <tr>\n",
       "      <th>4</th>\n",
       "      <td>4</td>\n",
       "      <td>Mega Walk in-drive for Voice Process BPO – Day...</td>\n",
       "      <td>Allsec Technologies</td>\n",
       "      <td>Chennai</td>\n",
       "      <td>0-1 Years</td>\n",
       "      <td>Not Specified</td>\n",
       "    </tr>\n",
       "  </tbody>\n",
       "</table>\n",
       "</div>"
      ],
      "text/plain": [
       "   Unnamed: 0                                           job_Role  \\\n",
       "0           0                                 Business Associate   \n",
       "1           1  Immediate Opening for Hardware and Networking ...   \n",
       "2           2  Walk In for HDFC Life/ Banca Vertical/ Malegao...   \n",
       "3           3  freshers Telesales Executive Telecaller Intern...   \n",
       "4           4  Mega Walk in-drive for Voice Process BPO – Day...   \n",
       "\n",
       "                              company               location  experience  \\\n",
       "0                               Etiqu                Madurai   0-1 Years   \n",
       "1                      Sysco Infotech                Chennai   0-2 Years   \n",
       "2                     Hr Remedy India                 Mumbai  1-10 Years   \n",
       "3  Tremplin Solutions Private Limited  Bengaluru / Bangalore   0-5 Years   \n",
       "4                 Allsec Technologies                Chennai   0-1 Years   \n",
       "\n",
       "     description  \n",
       "0  Not Specified  \n",
       "1  Not Specified  \n",
       "2  Not Specified  \n",
       "3  Not Specified  \n",
       "4  Not Specified  "
      ]
     },
     "execution_count": 41,
     "metadata": {},
     "output_type": "execute_result"
    }
   ],
   "source": [
    "df.head(5)"
   ]
  },
  {
   "cell_type": "code",
   "execution_count": 42,
   "metadata": {},
   "outputs": [],
   "source": [
    "df = df.drop(columns=['Unnamed: 0'])"
   ]
  },
  {
   "cell_type": "code",
   "execution_count": 43,
   "metadata": {},
   "outputs": [
    {
     "data": {
      "text/plain": [
       "Index(['job_Role', 'company', 'location', 'experience', 'description'], dtype='object')"
      ]
     },
     "execution_count": 43,
     "metadata": {},
     "output_type": "execute_result"
    }
   ],
   "source": [
    "df.columns"
   ]
  },
  {
   "cell_type": "code",
   "execution_count": 44,
   "metadata": {},
   "outputs": [
    {
     "data": {
      "text/plain": [
       "job_Role       0\n",
       "company        0\n",
       "location       0\n",
       "experience     0\n",
       "description    0\n",
       "dtype: int64"
      ]
     },
     "execution_count": 44,
     "metadata": {},
     "output_type": "execute_result"
    }
   ],
   "source": [
    "df.isnull().sum()"
   ]
  },
  {
   "cell_type": "code",
   "execution_count": 45,
   "metadata": {},
   "outputs": [
    {
     "data": {
      "text/plain": [
       "(125, 5)"
      ]
     },
     "execution_count": 45,
     "metadata": {},
     "output_type": "execute_result"
    }
   ],
   "source": [
    "df.shape"
   ]
  },
  {
   "cell_type": "code",
   "execution_count": 46,
   "metadata": {},
   "outputs": [],
   "source": [
    "job_Role = df['job_Role'].dropna()"
   ]
  },
  {
   "cell_type": "code",
   "execution_count": 47,
   "metadata": {},
   "outputs": [],
   "source": [
    "job_Role = job_Role.tolist() "
   ]
  },
  {
   "cell_type": "code",
   "execution_count": 48,
   "metadata": {},
   "outputs": [
    {
     "name": "stdout",
     "output_type": "stream",
     "text": [
      "Business Associate\n"
     ]
    }
   ],
   "source": [
    "print(job_Role[0])"
   ]
  },
  {
   "cell_type": "code",
   "execution_count": 49,
   "metadata": {},
   "outputs": [
    {
     "name": "stdout",
     "output_type": "stream",
     "text": [
      "125\n"
     ]
    }
   ],
   "source": [
    "print(len(job_Role))"
   ]
  },
  {
   "cell_type": "code",
   "execution_count": 50,
   "metadata": {},
   "outputs": [],
   "source": [
    "def findJobCntonSkill(skill):\n",
    "    requiredSkill = []\n",
    "    for i in job_Role:\n",
    "        if(skill in i):\n",
    "            requiredSkill.append(i)\n",
    "    return(len(requiredSkill))  "
   ]
  },
  {
   "cell_type": "code",
   "execution_count": 51,
   "metadata": {},
   "outputs": [
    {
     "data": {
      "text/plain": [
       "10"
      ]
     },
     "execution_count": 51,
     "metadata": {},
     "output_type": "execute_result"
    }
   ],
   "source": [
    "findJobCntonSkill(\"Design\")"
   ]
  },
  {
   "cell_type": "code",
   "execution_count": 52,
   "metadata": {},
   "outputs": [
    {
     "data": {
      "text/plain": [
       "Walk-in Drive- Xavient – Automation Testing (Selenium) - Saturday (13-July-19)                       5\n",
       "Immediate Opening for Hardware and Networking Engineers (Freshers)                                   5\n",
       "Hiring for HR-Recruiters at Skyscraper Consulting ! Pckg- 13-18K+ Bonus + Incentives | 8237076800    5\n",
       "Walk In for HDFC Life/ Banca Vertical/ Malegaon @ 8087075486                                         5\n",
       "Walk IN For GENERAL EMBEDDED on July 13, 2019 at Chennai                                             5\n",
       "Name: job_Role, dtype: int64"
      ]
     },
     "execution_count": 52,
     "metadata": {},
     "output_type": "execute_result"
    }
   ],
   "source": [
    "top5JobSkills = df['job_Role'].value_counts()\n",
    "top5JobSkills[0:5]"
   ]
  },
  {
   "cell_type": "code",
   "execution_count": 53,
   "metadata": {},
   "outputs": [
    {
     "data": {
      "text/plain": [
       "Jasmin Infotech Private Limited               20\n",
       "Hucon Solutions India Private Limited         10\n",
       "Free Lancer S Divya                           10\n",
       "Sky Scrapper Consulting                       10\n",
       "Mphasis Limited                               10\n",
       "Cameo Global Communication Private Limited     5\n",
       "Etiqu                                          5\n",
       "Rahat Enterprises                              5\n",
       "Tremplin Solutions Private Limited             5\n",
       "Sysco Infotech                                 5\n",
       "Name: company, dtype: int64"
      ]
     },
     "execution_count": 53,
     "metadata": {},
     "output_type": "execute_result"
    }
   ],
   "source": [
    "top10company = df['company'].value_counts()\n",
    "top10company[0:10]"
   ]
  },
  {
   "cell_type": "code",
   "execution_count": 54,
   "metadata": {},
   "outputs": [
    {
     "data": {
      "text/plain": [
       "Walk-in Drive- Xavient – Automation Testing (Selenium) - Saturday (13-July-19)                       5\n",
       "Immediate Opening for Hardware and Networking Engineers (Freshers)                                   5\n",
       "Hiring for HR-Recruiters at Skyscraper Consulting ! Pckg- 13-18K+ Bonus + Incentives | 8237076800    5\n",
       "Walk In for HDFC Life/ Banca Vertical/ Malegaon @ 8087075486                                         5\n",
       "Walk IN For GENERAL EMBEDDED on July 13, 2019 at Chennai                                             5\n",
       "Walk-in @ STG Infotech for Java/J2ee Professionals on 13th July 2019(Saturday)                       5\n",
       "Urgently required Manpower for below positions for Qatar, direct interviews in Trichy, Tamilnadu     5\n",
       "Walk IN For Autosar on July 13, 2019 at Chennai                                                      5\n",
       "Immediate Opening for IT ANALYST in Cameo Global Communication pvt ltd                               5\n",
       "Walk IN For CAN on July 13, 2019 at Chennai                                                          5\n",
       "Name: job_Role, dtype: int64"
      ]
     },
     "execution_count": 54,
     "metadata": {},
     "output_type": "execute_result"
    }
   ],
   "source": [
    "top10job_Role = df['job_Role'].value_counts()\n",
    "top10job_Role[0:10]"
   ]
  },
  {
   "cell_type": "code",
   "execution_count": 55,
   "metadata": {},
   "outputs": [
    {
     "data": {
      "text/plain": [
       "<matplotlib.axes._subplots.AxesSubplot at 0x1a35c26358>"
      ]
     },
     "execution_count": 55,
     "metadata": {},
     "output_type": "execute_result"
    },
    {
     "data": {
      "image/png": "[encoded data removed]",
      "text/plain": [
       "<Figure size 432x288 with 1 Axes>"
      ]
     },
     "metadata": {
      "needs_background": "light"
     },
     "output_type": "display_data"
    }
   ],
   "source": [
    "df['job_Role'].value_counts()[:10].plot(kind='barh',colormap='summer')"
   ]
  },
  {
   "cell_type": "code",
   "execution_count": 56,
   "metadata": {},
   "outputs": [
    {
     "name": "stdout",
     "output_type": "stream",
     "text": [
      "<class 'pandas.core.series.Series'>\n"
     ]
    }
   ],
   "source": [
    "top5Company = df['company'].value_counts()\n",
    "top5Company = top5Company[0:5]\n",
    "print(type(top5Company))"
   ]
  },
  {
   "cell_type": "code",
   "execution_count": 57,
   "metadata": {},
   "outputs": [
    {
     "data": {
      "text/plain": [
       "<matplotlib.axes._subplots.AxesSubplot at 0x1a35c8f320>"
      ]
     },
     "execution_count": 57,
     "metadata": {},
     "output_type": "execute_result"
    },
    {
     "data": {
      "image/png": "[encoded data removed]",
      "text/plain": [
       "<Figure size 432x288 with 1 Axes>"
      ]
     },
     "metadata": {
      "needs_background": "light"
     },
     "output_type": "display_data"
    }
   ],
   "source": [
    "top5Company.plot.bar(stacked=True, colormap='winter')"
   ]
  },
  {
   "cell_type": "code",
   "execution_count": 58,
   "metadata": {},
   "outputs": [
    {
     "data": {
      "text/plain": [
       "3-8 Years    25\n",
       "0-3 Years    10\n",
       "0-1 Years    10\n",
       "0-2 Years    10\n",
       "0-4 Years    10\n",
       "Name: experience, dtype: int64"
      ]
     },
     "execution_count": 58,
     "metadata": {},
     "output_type": "execute_result"
    }
   ],
   "source": [
    "top5ExperienceLevel = df['experience'].value_counts()\n",
    "top5ExperienceLevel[0:5]"
   ]
  },
  {
   "cell_type": "code",
   "execution_count": 59,
   "metadata": {},
   "outputs": [
    {
     "data": {
      "image/png": "[encoded data removed]",
      "text/plain": [
       "<Figure size 432x288 with 1 Axes>"
      ]
     },
     "metadata": {
      "needs_background": "light"
     },
     "output_type": "display_data"
    }
   ],
   "source": [
    "import seaborn as sns\n",
    "import matplotlib.pyplot as plt\n",
    "\n",
    "sns.countplot(y=\"experience\", data=df)\n",
    "plt.title(\"Jobs Experience Level\")\n",
    "\n",
    "plt.show()"
   ]
  },
  {
   "cell_type": "code",
   "execution_count": 60,
   "metadata": {},
   "outputs": [],
   "source": [
    "diffJobCategories= df['job_Role'].dropna()"
   ]
  },
  {
   "cell_type": "code",
   "execution_count": 61,
   "metadata": {},
   "outputs": [
    {
     "data": {
      "text/plain": [
       "Walk-in Drive- Xavient – Automation Testing (Selenium) - Saturday (13-July-19)                               5\n",
       "Immediate Opening for Hardware and Networking Engineers (Freshers)                                           5\n",
       "Hiring for HR-Recruiters at Skyscraper Consulting ! Pckg- 13-18K+ Bonus + Incentives | 8237076800            5\n",
       "Walk In for HDFC Life/ Banca Vertical/ Malegaon @ 8087075486                                                 5\n",
       "Walk IN For GENERAL EMBEDDED on July 13, 2019 at Chennai                                                     5\n",
       "Walk-in @ STG Infotech for Java/J2ee Professionals on 13th July 2019(Saturday)                               5\n",
       "Urgently required Manpower for below positions for Qatar, direct interviews in Trichy, Tamilnadu             5\n",
       "Walk IN For Autosar on July 13, 2019 at Chennai                                                              5\n",
       "Immediate Opening for IT ANALYST in Cameo Global Communication pvt ltd                                       5\n",
       "Walk IN For CAN on July 13, 2019 at Chennai                                                                  5\n",
       "Walk IN For GENERAL EMBEDDED on 13-07-2019 at Chennai 10:00 AM to 5:00 PM                                    5\n",
       "BPO- B2B Insurance VOICE process | Fix shift Sat-Sun OFF | 30k+Inc | Call 8237076805                         5\n",
       "Mega Walkin Drive for Capital Market || 15-July||                                                            5\n",
       "Mega drive For customer service,Sales & Team lead for Top MNC                                                5\n",
       "Vacancies for Site Engineer on 10/03/2019                                                                    5\n",
       "Structural Design Engineer                                                                                   5\n",
       "Mega Walk in-drive for Voice Process BPO – Day Shift                                                         5\n",
       "Mega drive for Freshers For Top MNC                                                                          5\n",
       "Executive/Senior Executive (Recruitment)                                                                     5\n",
       "freshers Telesales Executive Telecaller International Sales International Call Center International Voice    5\n",
       "Graphic Designer - 0 - 3 Yrs Experience - New Delhi                                                          5\n",
       "Urgently required Manpower for below positions for Qatar, direct interviews in Trichy, Tamil Nadu            5\n",
       "Mega Walkin for Non Voice Process || 15-July||                                                               5\n",
       "Phone Banking Officer                                                                                        5\n",
       "Business Associate                                                                                           5\n",
       "Name: job_Role, dtype: int64"
      ]
     },
     "execution_count": 61,
     "metadata": {},
     "output_type": "execute_result"
    }
   ],
   "source": [
    "diffJobCategories.value_counts()"
   ]
  },
  {
   "cell_type": "code",
   "execution_count": 62,
   "metadata": {},
   "outputs": [],
   "source": [
    "dfJobLocation = df['location'].value_counts()\n",
    "dfJobLocation = dfJobLocation[0:10]"
   ]
  },
  {
   "cell_type": "code",
   "execution_count": 63,
   "metadata": {},
   "outputs": [
    {
     "data": {
      "text/plain": [
       "<matplotlib.axes._subplots.AxesSubplot at 0x1a29e719e8>"
      ]
     },
     "execution_count": 63,
     "metadata": {},
     "output_type": "execute_result"
    },
    {
     "data": {
      "image/png": "[encoded data removed]",
      "text/plain": [
       "<Figure size 432x288 with 1 Axes>"
      ]
     },
     "metadata": {
      "needs_background": "light"
     },
     "output_type": "display_data"
    }
   ],
   "source": [
    "dfJobLocation.plot.bar(stacked=True, colormap='Paired')"
   ]
  },
  {
   "cell_type": "code",
   "execution_count": 64,
   "metadata": {},
   "outputs": [],
   "source": [
    "#by_product_cat_subcat = df.groupby(['location'])\n",
    "#by_product_cat_subcat\n",
    "\n",
    "#df_Chennai = df['location'].groupby(df['job_Role'])"
   ]
  },
  {
   "cell_type": "code",
   "execution_count": 65,
   "metadata": {},
   "outputs": [
    {
     "data": {
      "text/plain": [
       "Series([], Name: job_Role, dtype: float64)"
      ]
     },
     "execution_count": 65,
     "metadata": {},
     "output_type": "execute_result"
    }
   ],
   "source": [
    "\n",
    "df_skill_loc = df.loc[df['location'] == 'City of Chennai, Chennai']\n",
    "df_skill_loc['job_Role'].value_counts(2)"
   ]
  },
  {
   "cell_type": "code",
   "execution_count": 66,
   "metadata": {},
   "outputs": [
    {
     "data": {
      "text/plain": [
       "Series([], Name: company, dtype: int64)"
      ]
     },
     "execution_count": 66,
     "metadata": {},
     "output_type": "execute_result"
    }
   ],
   "source": [
    "dfcomp = df_skill_loc['company'].value_counts()\n",
    "dfcomp[0:5]"
   ]
  },
  {
   "cell_type": "code",
   "execution_count": 67,
   "metadata": {},
   "outputs": [
    {
     "data": {
      "text/plain": [
       "Walk-in Drive- Xavient – Automation Testing (Selenium) - Saturday (13-July-19)                       5\n",
       "Immediate Opening for Hardware and Networking Engineers (Freshers)                                   5\n",
       "Hiring for HR-Recruiters at Skyscraper Consulting ! Pckg- 13-18K+ Bonus + Incentives | 8237076800    5\n",
       "Walk In for HDFC Life/ Banca Vertical/ Malegaon @ 8087075486                                         5\n",
       "Walk IN For GENERAL EMBEDDED on July 13, 2019 at Chennai                                             5\n",
       "Name: job_Role, dtype: int64"
      ]
     },
     "execution_count": 67,
     "metadata": {},
     "output_type": "execute_result"
    }
   ],
   "source": [
    "jobRole = df['job_Role'].value_counts()\n",
    "jobRole[0:5]"
   ]
  },
  {
   "cell_type": "markdown",
   "metadata": {},
   "source": [
    "# Analysis of job_Role Data"
   ]
  },
  {
   "cell_type": "code",
   "execution_count": 68,
   "metadata": {},
   "outputs": [],
   "source": [
    "job_Role = df['job_Role'].dropna()"
   ]
  },
  {
   "cell_type": "code",
   "execution_count": 69,
   "metadata": {},
   "outputs": [],
   "source": [
    "#job_Role = job_Role.tolist() "
   ]
  },
  {
   "cell_type": "markdown",
   "metadata": {},
   "source": [
    "# Pre Processing Steps"
   ]
  },
  {
   "cell_type": "code",
   "execution_count": 70,
   "metadata": {},
   "outputs": [],
   "source": [
    "# Prepare Stop Words\n",
    "# NLTK Stop words\n",
    "from nltk.corpus import stopwords\n",
    "stop_words = stopwords.words('english')\n",
    "stop_words.extend(['from', 'subject', 're', 'edu', 'use'])"
   ]
  },
  {
   "cell_type": "code",
   "execution_count": 71,
   "metadata": {},
   "outputs": [
    {
     "name": "stdout",
     "output_type": "stream",
     "text": [
      "[['business', 'associate']]\n"
     ]
    }
   ],
   "source": [
    "#Tokenize words and Clean up Text\n",
    "\n",
    "def sent_to_words(sentences):\n",
    "    for sentence in sentences:\n",
    "        yield(gensim.utils.simple_preprocess(str(sentence), deacc=True))  # deacc=True removes punctuations\n",
    "\n",
    "data_words = list(sent_to_words(job_Role))\n",
    "\n",
    "print(data_words[:1])"
   ]
  },
  {
   "cell_type": "code",
   "execution_count": 72,
   "metadata": {},
   "outputs": [
    {
     "name": "stdout",
     "output_type": "stream",
     "text": [
      "['business', 'associate']\n"
     ]
    }
   ],
   "source": [
    "#Creating Bigram and Trigram models\n",
    "# Build the bigram and trigram models\n",
    "bigram = gensim.models.Phrases(data_words, min_count=5, threshold=100) # higher threshold fewer phrases.\n",
    "trigram = gensim.models.Phrases(bigram[data_words], threshold=100)  \n",
    "\n",
    "# Faster way to get a sentence clubbed as a trigram/bigram\n",
    "bigram_mod = gensim.models.phrases.Phraser(bigram)\n",
    "trigram_mod = gensim.models.phrases.Phraser(trigram)\n",
    "\n",
    "# See trigram example\n",
    "print(trigram_mod[bigram_mod[data_words[0]]])"
   ]
  },
  {
   "cell_type": "code",
   "execution_count": 73,
   "metadata": {},
   "outputs": [],
   "source": [
    "#Remove Stop words , Make Bigrams and Lemmatize\n",
    "def remove_stopwords(texts):\n",
    "    return [[word for word in simple_preprocess(str(doc)) if word not in stop_words] for doc in texts]\n",
    "\n",
    "def make_bigrams(texts):\n",
    "    return [bigram_mod[doc] for doc in texts]\n",
    "\n",
    "def make_trigrams(texts):\n",
    "    return [trigram_mod[bigram_mod[doc]] for doc in texts]\n",
    "\n",
    "#def lemmatization(texts, allowed_postags=['NOUN', 'ADJ', 'VERB', 'ADV']):\n",
    "def lemmatization(texts, allowed_postags=['NOUN']):\n",
    "    \"\"\"https://spacy.io/api/annotation\"\"\"\n",
    "    texts_out = []\n",
    "    for sent in texts:\n",
    "        doc = nlp(\" \".join(sent)) \n",
    "        texts_out.append([token.lemma_ for token in doc if token.pos_ in allowed_postags])\n",
    "    return texts_out"
   ]
  },
  {
   "cell_type": "code",
   "execution_count": 74,
   "metadata": {},
   "outputs": [
    {
     "name": "stdout",
     "output_type": "stream",
     "text": [
      "[['business', 'associate'], ['hardware', 'engineer', 'fresher'], ['life', 'malegaon'], ['fresher', 'telesale', 'telecaller', 'sale', 'call', 'center', 'voice']]\n"
     ]
    }
   ],
   "source": [
    "# Calling functions\n",
    "\n",
    "# Remove Stop Words\n",
    "data_words_nostops = remove_stopwords(data_words)\n",
    "\n",
    "# Form Bigrams\n",
    "data_words_bigrams = make_bigrams(data_words_nostops)\n",
    "\n",
    "# Initialize spacy 'en' model, keeping only tagger component (for efficiency)\n",
    "# python3 -m spacy download en\n",
    "nlp = spacy.load('en', disable=['parser', 'ner'])\n",
    "\n",
    "# Do lemmatization keeping only noun, adj, vb, adv\n",
    "data_lemmatized = lemmatization(data_words_bigrams, allowed_postags=['NOUN'])\n",
    "#data_lemmatized = lemmatization(data_words_bigrams, allowed_postags=['NOUN', 'ADJ', 'VERB', 'ADV'])\n",
    "\n",
    "print(data_lemmatized[:4])"
   ]
  },
  {
   "cell_type": "code",
   "execution_count": 75,
   "metadata": {},
   "outputs": [
    {
     "name": "stdout",
     "output_type": "stream",
     "text": [
      "[[(0, 1), (1, 1)]]\n"
     ]
    }
   ],
   "source": [
    "# Create Dictionary and Corpus needed for Topic Modelling\n",
    "\n",
    "# Create Dictionary\n",
    "id2word = corpora.Dictionary(data_lemmatized)\n",
    "\n",
    "# Create Corpus\n",
    "texts = data_lemmatized\n",
    "\n",
    "# Term Document Frequency\n",
    "corpus = [id2word.doc2bow(text) for text in texts]\n",
    "\n",
    "# View\n",
    "print(corpus[:1])"
   ]
  },
  {
   "cell_type": "code",
   "execution_count": 76,
   "metadata": {},
   "outputs": [
    {
     "data": {
      "text/plain": [
       "'associate'"
      ]
     },
     "execution_count": 76,
     "metadata": {},
     "output_type": "execute_result"
    }
   ],
   "source": [
    "id2word[0]"
   ]
  },
  {
   "cell_type": "code",
   "execution_count": 77,
   "metadata": {},
   "outputs": [
    {
     "data": {
      "text/plain": [
       "[[('associate', 1), ('business', 1)],\n",
       " [('engineer', 1), ('fresher', 1), ('hardware', 1)],\n",
       " [('life', 1), ('malegaon', 1)]]"
      ]
     },
     "execution_count": 77,
     "metadata": {},
     "output_type": "execute_result"
    }
   ],
   "source": [
    "# Human readable format of corpus (term-frequency)\n",
    "[[(id2word[id], freq) for id, freq in cp] for cp in corpus[:3]]"
   ]
  },
  {
   "cell_type": "markdown",
   "metadata": {},
   "source": [
    "# Building LDA Model"
   ]
  },
  {
   "cell_type": "code",
   "execution_count": 78,
   "metadata": {},
   "outputs": [],
   "source": [
    "lda_model = gensim.models.ldamodel.LdaModel(corpus=corpus,\n",
    "                                           id2word=id2word,\n",
    "                                           num_topics=5, \n",
    "                                           random_state=100,\n",
    "                                           update_every=1,\n",
    "                                           chunksize=100,\n",
    "                                           passes=10,\n",
    "                                           alpha='auto',\n",
    "                                           per_word_topics=True)"
   ]
  },
  {
   "cell_type": "code",
   "execution_count": 79,
   "metadata": {},
   "outputs": [
    {
     "name": "stdout",
     "output_type": "stream",
     "text": [
      "[(0,\n",
      "  '0.129*\"process\" + 0.129*\"voice\" + 0.086*\"shift\" + 0.086*\"bpo\" + '\n",
      "  '0.086*\"drive\" + 0.044*\"insurance\" + 0.044*\"sun\" + 0.044*\"inc\" + 0.044*\"fix\" '\n",
      "  '+ 0.044*\"day\"'),\n",
      " (1,\n",
      "  '0.094*\"engineer\" + 0.048*\"july\" + 0.048*\"phone\" + 0.048*\"site\" + '\n",
      "  '0.048*\"vacancy\" + 0.048*\"officer\" + 0.048*\"banking\" + 0.048*\"malegaon\" + '\n",
      "  '0.048*\"design\" + 0.048*\"life\"'),\n",
      " (2,\n",
      "  '0.103*\"chennai\" + 0.069*\"position\" + 0.069*\"interview\" + 0.069*\"sale\" + '\n",
      "  '0.069*\"manpower\" + 0.035*\"voice\" + 0.035*\"fresher\" + 0.035*\"drive\" + '\n",
      "  '0.035*\"mnc\" + 0.035*\"call\"'),\n",
      " (3,\n",
      "  '0.148*\"july\" + 0.050*\"bonus\" + 0.050*\"recruiter\" + 0.050*\"skyscraper\" + '\n",
      "  '0.050*\"incentive\" + 0.050*\"business\" + 0.050*\"associate\" + 0.050*\"walkin\" + '\n",
      "  '0.050*\"infotech\" + 0.050*\"market\"'),\n",
      " (4,\n",
      "  '0.098*\"cameo\" + 0.098*\"pvt\" + 0.098*\"ltd\" + 0.098*\"communication\" + '\n",
      "  '0.098*\"analyst\" + 0.098*\"hardware\" + 0.098*\"fresher\" + 0.098*\"engineer\" + '\n",
      "  '0.004*\"recruitment\" + 0.004*\"delhi\"')]\n"
     ]
    }
   ],
   "source": [
    "# View the topics in LDA Model\n",
    "# Print the Keywords in the Top 10 Topics\n",
    "\n",
    "pprint(lda_model.print_topics())\n",
    "doc_lda = lda_model[corpus]"
   ]
  },
  {
   "cell_type": "code",
   "execution_count": 80,
   "metadata": {},
   "outputs": [],
   "source": [
    "# Compute Model Perplexity and Coherence Score"
   ]
  },
  {
   "cell_type": "code",
   "execution_count": 81,
   "metadata": {},
   "outputs": [
    {
     "name": "stdout",
     "output_type": "stream",
     "text": [
      "\n",
      "Perplexity:  -3.828097834510188\n",
      "\n",
      "Coherence Score:  0.5666510872564524\n"
     ]
    }
   ],
   "source": [
    "# Compute Perplexity\n",
    "print('\\nPerplexity: ', lda_model.log_perplexity(corpus))  # a measure of how good the model is. lower the better.\n",
    "\n",
    "# Compute Coherence Score\n",
    "coherence_model_lda = CoherenceModel(model=lda_model, texts=data_lemmatized, dictionary=id2word, coherence='c_v')\n",
    "coherence_lda = coherence_model_lda.get_coherence()\n",
    "print('\\nCoherence Score: ', coherence_lda)"
   ]
  },
  {
   "cell_type": "markdown",
   "metadata": {},
   "source": [
    "# Hyperparameter Tuning - Alpha and No. of Topics"
   ]
  },
  {
   "cell_type": "code",
   "execution_count": 83,
   "metadata": {},
   "outputs": [],
   "source": [
    "# compute coherence value at various values of alpha and num_topics\n",
    "def compute_coherence_values(dictionary, corpus, texts, num_topics_range, alpha_range):\n",
    "    \n",
    "    coherence_values = []\n",
    "    model_list = []\n",
    "    for alpha in alpha_range:\n",
    "        for num_topics in num_topics_range:\n",
    "            lda_model = gensim.models.ldamodel.LdaModel(corpus=corpus,\n",
    "                                               id2word=dictionary,\n",
    "                                               num_topics=num_topics, \n",
    "                                               alpha=alpha,\n",
    "                                               per_word_topics=True)\n",
    "            model_list.append(lda_model)\n",
    "            coherencemodel = CoherenceModel(model=lda_model, texts=texts, dictionary=dictionary, coherence='c_v')\n",
    "            coherence_values.append((alpha, num_topics, coherencemodel.get_coherence()))\n",
    "        \n",
    "\n",
    "    return model_list, coherence_values"
   ]
  },
  {
   "cell_type": "code",
   "execution_count": 84,
   "metadata": {},
   "outputs": [],
   "source": [
    "# build models across a range of num_topics and alpha\n",
    "num_topics_range = [2, 6, 10, 15, 20]\n",
    "alpha_range = [0.01, 0.1, 0.001]\n",
    "model_list, coherence_values = compute_coherence_values(dictionary=id2word, \n",
    "                                                        corpus=corpus, \n",
    "                                                        texts=data_lemmatized, \n",
    "                                                        num_topics_range=num_topics_range, \n",
    "                                                        alpha_range=alpha_range)"
   ]
  },
  {
   "cell_type": "code",
   "execution_count": 85,
   "metadata": {},
   "outputs": [
    {
     "data": {
      "text/html": [
       "<div>\n",
       "<style scoped>\n",
       "    .dataframe tbody tr th:only-of-type {\n",
       "        vertical-align: middle;\n",
       "    }\n",
       "\n",
       "    .dataframe tbody tr th {\n",
       "        vertical-align: top;\n",
       "    }\n",
       "\n",
       "    .dataframe thead th {\n",
       "        text-align: right;\n",
       "    }\n",
       "</style>\n",
       "<table border=\"1\" class=\"dataframe\">\n",
       "  <thead>\n",
       "    <tr style=\"text-align: right;\">\n",
       "      <th></th>\n",
       "      <th>alpha</th>\n",
       "      <th>num_topics</th>\n",
       "      <th>coherence_value</th>\n",
       "    </tr>\n",
       "  </thead>\n",
       "  <tbody>\n",
       "    <tr>\n",
       "      <th>0</th>\n",
       "      <td>0.010</td>\n",
       "      <td>2</td>\n",
       "      <td>0.598216</td>\n",
       "    </tr>\n",
       "    <tr>\n",
       "      <th>1</th>\n",
       "      <td>0.010</td>\n",
       "      <td>6</td>\n",
       "      <td>0.559469</td>\n",
       "    </tr>\n",
       "    <tr>\n",
       "      <th>2</th>\n",
       "      <td>0.010</td>\n",
       "      <td>10</td>\n",
       "      <td>0.551823</td>\n",
       "    </tr>\n",
       "    <tr>\n",
       "      <th>3</th>\n",
       "      <td>0.010</td>\n",
       "      <td>15</td>\n",
       "      <td>0.572557</td>\n",
       "    </tr>\n",
       "    <tr>\n",
       "      <th>4</th>\n",
       "      <td>0.010</td>\n",
       "      <td>20</td>\n",
       "      <td>0.580434</td>\n",
       "    </tr>\n",
       "    <tr>\n",
       "      <th>5</th>\n",
       "      <td>0.100</td>\n",
       "      <td>2</td>\n",
       "      <td>0.528052</td>\n",
       "    </tr>\n",
       "    <tr>\n",
       "      <th>6</th>\n",
       "      <td>0.100</td>\n",
       "      <td>6</td>\n",
       "      <td>0.530388</td>\n",
       "    </tr>\n",
       "    <tr>\n",
       "      <th>7</th>\n",
       "      <td>0.100</td>\n",
       "      <td>10</td>\n",
       "      <td>0.582655</td>\n",
       "    </tr>\n",
       "    <tr>\n",
       "      <th>8</th>\n",
       "      <td>0.100</td>\n",
       "      <td>15</td>\n",
       "      <td>0.586946</td>\n",
       "    </tr>\n",
       "    <tr>\n",
       "      <th>9</th>\n",
       "      <td>0.100</td>\n",
       "      <td>20</td>\n",
       "      <td>0.614171</td>\n",
       "    </tr>\n",
       "    <tr>\n",
       "      <th>10</th>\n",
       "      <td>0.001</td>\n",
       "      <td>2</td>\n",
       "      <td>0.658099</td>\n",
       "    </tr>\n",
       "    <tr>\n",
       "      <th>11</th>\n",
       "      <td>0.001</td>\n",
       "      <td>6</td>\n",
       "      <td>0.531830</td>\n",
       "    </tr>\n",
       "    <tr>\n",
       "      <th>12</th>\n",
       "      <td>0.001</td>\n",
       "      <td>10</td>\n",
       "      <td>0.584593</td>\n",
       "    </tr>\n",
       "    <tr>\n",
       "      <th>13</th>\n",
       "      <td>0.001</td>\n",
       "      <td>15</td>\n",
       "      <td>0.569327</td>\n",
       "    </tr>\n",
       "    <tr>\n",
       "      <th>14</th>\n",
       "      <td>0.001</td>\n",
       "      <td>20</td>\n",
       "      <td>0.587365</td>\n",
       "    </tr>\n",
       "  </tbody>\n",
       "</table>\n",
       "</div>"
      ],
      "text/plain": [
       "    alpha  num_topics  coherence_value\n",
       "0   0.010           2         0.598216\n",
       "1   0.010           6         0.559469\n",
       "2   0.010          10         0.551823\n",
       "3   0.010          15         0.572557\n",
       "4   0.010          20         0.580434\n",
       "5   0.100           2         0.528052\n",
       "6   0.100           6         0.530388\n",
       "7   0.100          10         0.582655\n",
       "8   0.100          15         0.586946\n",
       "9   0.100          20         0.614171\n",
       "10  0.001           2         0.658099\n",
       "11  0.001           6         0.531830\n",
       "12  0.001          10         0.584593\n",
       "13  0.001          15         0.569327\n",
       "14  0.001          20         0.587365"
      ]
     },
     "execution_count": 85,
     "metadata": {},
     "output_type": "execute_result"
    }
   ],
   "source": [
    "coherence_df = pd.DataFrame(coherence_values, columns=['alpha', 'num_topics', 'coherence_value'])\n",
    "coherence_df"
   ]
  },
  {
   "cell_type": "code",
   "execution_count": 86,
   "metadata": {},
   "outputs": [
    {
     "data": {
      "image/png": "[encoded data removed]",
      "text/plain": [
       "<Figure size 1152x432 with 3 Axes>"
      ]
     },
     "metadata": {
      "needs_background": "light"
     },
     "output_type": "display_data"
    }
   ],
   "source": [
    "# plot\n",
    "def plot_coherence(coherence_df, alpha_range, num_topics_range):\n",
    "    plt.figure(figsize=(16,6))\n",
    "\n",
    "    for i, val in enumerate(alpha_range):\n",
    "\n",
    "        # subplot 1/3/i\n",
    "        plt.subplot(1, 3, i+1)\n",
    "        alpha_subset = coherence_df[coherence_df['alpha']==val]\n",
    "\n",
    "        plt.plot(alpha_subset[\"num_topics\"], alpha_subset[\"coherence_value\"])\n",
    "        plt.xlabel('num_topics')\n",
    "        plt.ylabel('Coherence Value')\n",
    "        plt.title(\"alpha={0}\".format(val))\n",
    "        plt.ylim([0.30, 1])\n",
    "        plt.legend('coherence value', loc='upper left')\n",
    "        plt.xticks(num_topics_range)\n",
    "\n",
    "plot_coherence(coherence_df, alpha_range, num_topics_range)"
   ]
  },
  {
   "cell_type": "code",
   "execution_count": 102,
   "metadata": {},
   "outputs": [],
   "source": [
    "# Build LDA model with alpha=0.01 and 10 topics\n",
    "lda_model = gensim.models.ldamodel.LdaModel(corpus=corpus,\n",
    "                                           id2word=id2word,\n",
    "                                           num_topics=10, \n",
    "                                           random_state=100,\n",
    "                                           update_every=1,\n",
    "                                           chunksize=100,\n",
    "                                           passes=10,\n",
    "                                           alpha=0.001,\n",
    "                                           per_word_topics=True)"
   ]
  },
  {
   "cell_type": "code",
   "execution_count": 103,
   "metadata": {},
   "outputs": [
    {
     "name": "stdout",
     "output_type": "stream",
     "text": [
      "[(0,\n",
      "  '0.099*\"voice\" + 0.099*\"process\" + 0.099*\"bpo\" + 0.099*\"shift\" + '\n",
      "  '0.099*\"insurance\" + 0.099*\"inc\" + 0.099*\"call\" + 0.099*\"sun\" + 0.099*\"fix\" '\n",
      "  '+ 0.002*\"chennai\"'),\n",
      " (1,\n",
      "  '0.123*\"engineer\" + 0.123*\"drive\" + 0.123*\"design\" + 0.123*\"walkin\" + '\n",
      "  '0.123*\"capital\" + 0.123*\"july\" + 0.123*\"market\" + 0.002*\"life\" + '\n",
      "  '0.002*\"malegaon\" + 0.002*\"vacancy\"'),\n",
      " (2,\n",
      "  '0.142*\"chennai\" + 0.095*\"sale\" + 0.048*\"autosar\" + 0.048*\"telesale\" + '\n",
      "  '0.048*\"service\" + 0.048*\"mnc\" + 0.048*\"customer\" + 0.048*\"july\" + '\n",
      "  '0.048*\"drive\" + 0.048*\"voice\"'),\n",
      " (3,\n",
      "  '0.083*\"drive\" + 0.083*\"recruiter\" + 0.083*\"mnc\" + 0.083*\"skyscraper\" + '\n",
      "  '0.083*\"business\" + 0.083*\"incentive\" + 0.083*\"bonus\" + 0.083*\"associate\" + '\n",
      "  '0.083*\"fresher\" + 0.083*\"chennai\"'),\n",
      " (4,\n",
      "  '0.110*\"engineer\" + 0.110*\"fresher\" + 0.110*\"hardware\" + 0.110*\"analyst\" + '\n",
      "  '0.110*\"ltd\" + 0.110*\"communication\" + 0.110*\"cameo\" + 0.110*\"pvt\" + '\n",
      "  '0.002*\"position\" + 0.002*\"interview\"'),\n",
      " (5,\n",
      "  '0.162*\"malegaon\" + 0.162*\"vacancy\" + 0.162*\"engineer\" + 0.162*\"site\" + '\n",
      "  '0.162*\"life\" + 0.003*\"stg\" + 0.003*\"july\" + 0.003*\"java\" + 0.003*\"saturday\" '\n",
      "  '+ 0.003*\"infotech\"'),\n",
      " (6,\n",
      "  '0.179*\"voice\" + 0.179*\"process\" + 0.090*\"walkin\" + 0.090*\"shift\" + '\n",
      "  '0.090*\"drive\" + 0.090*\"bpo\" + 0.090*\"day\" + 0.090*\"recruitment\" + '\n",
      "  '0.002*\"design\" + 0.002*\"july\"'),\n",
      " (7,\n",
      "  '0.237*\"banking\" + 0.237*\"officer\" + 0.237*\"phone\" + 0.005*\"sale\" + '\n",
      "  '0.005*\"fresher\" + 0.005*\"call\" + 0.005*\"voice\" + 0.005*\"associate\" + '\n",
      "  '0.005*\"business\" + 0.005*\"delhi\"'),\n",
      " (8,\n",
      "  '0.179*\"position\" + 0.179*\"manpower\" + 0.179*\"interview\" + 0.090*\"tamilnadu\" '\n",
      "  '+ 0.090*\"yrs\" + 0.090*\"delhi\" + 0.090*\"designer\" + 0.002*\"nadu\" + '\n",
      "  '0.002*\"tamil\" + 0.002*\"bonus\"'),\n",
      " (9,\n",
      "  '0.179*\"saturday\" + 0.179*\"july\" + 0.090*\"automation\" + 0.090*\"testing\" + '\n",
      "  '0.090*\"selenium\" + 0.090*\"infotech\" + 0.090*\"stg\" + 0.090*\"java\" + '\n",
      "  '0.002*\"recruitment\" + 0.002*\"fresher\"')]\n"
     ]
    }
   ],
   "source": [
    "# print keywords \n",
    "pprint(lda_model.print_topics())\n",
    "doc_lda = lda_model[corpus]\n"
   ]
  },
  {
   "cell_type": "code",
   "execution_count": 104,
   "metadata": {},
   "outputs": [
    {
     "name": "stdout",
     "output_type": "stream",
     "text": [
      "\n",
      "Perplexity:  -3.6465185791093817\n",
      "\n",
      "Coherence Score:  0.5781843593703985\n"
     ]
    }
   ],
   "source": [
    "# Compute Perplexity\n",
    "print('\\nPerplexity: ', lda_model.log_perplexity(corpus))  # a measure of how good the model is. lower the better.\n",
    "\n",
    "# Compute Coherence Score\n",
    "coherence_model_lda = CoherenceModel(model=lda_model, texts=data_lemmatized, dictionary=id2word, coherence='c_v')\n",
    "coherence_lda = coherence_model_lda.get_coherence()\n",
    "print('\\nCoherence Score: ', coherence_lda)"
   ]
  },
  {
   "cell_type": "code",
   "execution_count": 105,
   "metadata": {},
   "outputs": [
    {
     "data": {
      "text/plain": [
       "[0.4603800685302685,\n",
       " 0.6582252886381739,\n",
       " 0.4597665317887869,\n",
       " 0.6647962584712344,\n",
       " 0.6137747914563432,\n",
       " 0.5773860043287146,\n",
       " 0.6021446380828241,\n",
       " 0.5394417991948555,\n",
       " 0.5757578613308489,\n",
       " 0.6301703518819349]"
      ]
     },
     "execution_count": 105,
     "metadata": {},
     "output_type": "execute_result"
    }
   ],
   "source": [
    "coherence_model_lda.get_coherence_per_topic()"
   ]
  },
  {
   "cell_type": "code",
   "execution_count": null,
   "metadata": {},
   "outputs": [],
   "source": []
  }
 ],
 "metadata": {
  "kernelspec": {
   "display_name": "Python 3",
   "language": "python",
   "name": "python3"
  },
  "language_info": {
   "codemirror_mode": {
    "name": "ipython",
    "version": 3
   },
   "file_extension": ".py",
   "mimetype": "text/x-python",
   "name": "python",
   "nbconvert_exporter": "python",
   "pygments_lexer": "ipython3",
   "version": "3.7.3"
  }
 },
 "nbformat": 4,
 "nbformat_minor": 2
}
